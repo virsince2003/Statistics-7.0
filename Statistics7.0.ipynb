{
 "cells": [
  {
   "cell_type": "markdown",
   "id": "659e9756-2332-41d1-a701-1ed28eabbdd6",
   "metadata": {},
   "source": [
    "Q1. Calculate the 95% confidence interval for a sample of data with a mean of 50 and a standard deviation\n",
    "of 5 using Python. Interpret the results."
   ]
  },
  {
   "cell_type": "code",
   "execution_count": 2,
   "id": "5205388d-cc62-4699-8419-50173dd139ee",
   "metadata": {},
   "outputs": [],
   "source": [
    "import scipy.stats as stats\n",
    "def values(mean,st_dev,confident):\n",
    "    standard_error=st_dev/(100)**0.5\n",
    "    critical_value=stats.t.ppf(confident,99)\n",
    "    lower_value=mean-standard_error*critical_value\n",
    "    upper_value=mean+standard_error*critical_value\n",
    "    return \"{:.2f}, {:.2f}\".format(lower_value,upper_value)"
   ]
  },
  {
   "cell_type": "code",
   "execution_count": 3,
   "id": "bb494682-3dd1-457f-94fb-ac2bb09aca08",
   "metadata": {},
   "outputs": [
    {
     "data": {
      "text/plain": [
       "'49.17, 50.83'"
      ]
     },
     "execution_count": 3,
     "metadata": {},
     "output_type": "execute_result"
    }
   ],
   "source": [
    "values(50,5,0.95)"
   ]
  },
  {
   "cell_type": "markdown",
   "id": "60be6ffa-62f1-4f2e-88ab-e3f81e536672",
   "metadata": {},
   "source": [
    "Q2. Conduct a chi-square goodness of fit test to determine if the distribution of colors of M&Ms in a bag\n",
    "matches the expected distribution of 20% blue, 20% orange, 20% green, 10% yellow, 10% red, and 20%\n",
    "brown. Use Python to perform the test with a significance level of 0.05."
   ]
  },
  {
   "cell_type": "code",
   "execution_count": 4,
   "id": "38bf672e-fbf0-4b96-b462-fe7d0fb0867e",
   "metadata": {},
   "outputs": [
    {
     "name": "stdout",
     "output_type": "stream",
     "text": [
      "Reject null hypothesis: The distribution of colors does not match the expected distribution\n"
     ]
    }
   ],
   "source": [
    "from scipy.stats import chisquare\n",
    "import numpy as np\n",
    "\n",
    "# I took observed frequencies randomly i did not find observed values in this question (without observed there will be no chi square test)\n",
    "observed = np.array([30, 14, 34, 45, 57, 20])\n",
    "expected = np.array([0.2, 0.2, 0.2, 0.1, 0.1, 0.2]) * observed.sum()\n",
    "significance=0.05\n",
    "ddof=len(expected)-1\n",
    "critical_value=stats.chi2.ppf(1-significance,ddof)\n",
    "chi2_statistic, p_value = chisquare(observed, expected)\n",
    "if chi2_statistic> critical_value:\n",
    "    print('Reject null hypothesis: The distribution of colors does not match the expected distribution')\n",
    "else:\n",
    "    print('Fail to reject null hypothesis: The distribution of colors matches the expected distribution')"
   ]
  },
  {
   "cell_type": "markdown",
   "id": "ff6e988d-ecf6-49d7-bb38-61ddec09993c",
   "metadata": {},
   "source": [
    "Q3. Use Python to calculate the chi-square statistic and p-value for a contingency table with the following\n",
    "data:\n",
    "    \n",
    "    \n",
    "             Group    Group B\n",
    "\n",
    "    Outcome1    20    15\n",
    "    Outcome2    10    25\n",
    "    Outcome3    15    20\n"
   ]
  },
  {
   "cell_type": "code",
   "execution_count": 5,
   "id": "d6d0dc69-1cbc-4a09-b03c-15ab3421b531",
   "metadata": {},
   "outputs": [
    {
     "name": "stdout",
     "output_type": "stream",
     "text": [
      "Chi-square statistic: 5.833333333333334\n",
      "P-value: 0.05411376622282158\n"
     ]
    },
    {
     "data": {
      "text/plain": [
       "2"
      ]
     },
     "execution_count": 5,
     "metadata": {},
     "output_type": "execute_result"
    }
   ],
   "source": [
    "import scipy.stats as stats\n",
    "observed_data = [[20, 15], [10, 25], [15, 20]]\n",
    "chi2_statistic, p_value, dof, expected = stats.chi2_contingency(observed_data)\n",
    "print(\"Chi-square statistic:\", chi2_statistic)\n",
    "print(\"P-value:\", p_value)\n",
    "dof "
   ]
  },
  {
   "cell_type": "markdown",
   "id": "7e756a47-26c4-4c86-9bf7-0268af222b34",
   "metadata": {},
   "source": [
    "Q4. A study of the prevalence of smoking in a population of 500 individuals found that 60 individuals\n",
    "smoked. Use Python to calculate the 95% confidence interval for the true proportion of individuals in the\n",
    "population who smoke."
   ]
  },
  {
   "cell_type": "code",
   "execution_count": 6,
   "id": "1dfd9e91-fd9b-4c06-b64e-1427e41c93af",
   "metadata": {},
   "outputs": [
    {
     "name": "stdout",
     "output_type": "stream",
     "text": [
      "95% Confidence Interval: (0.0915, 0.1485)\n"
     ]
    }
   ],
   "source": [
    "sample_proportion = 60 / 500\n",
    "sample_size = 500\n",
    "confidence_level = 0.95\n",
    "critical_value = stats.norm.ppf((1 + confidence_level) / 2)\n",
    "standard_error = (sample_proportion * (1 - sample_proportion) / sample_size) ** 0.5\n",
    "lower_value = sample_proportion - critical_value * standard_error\n",
    "upper_value = sample_proportion + critical_value * standard_error\n",
    "print(\"95% Confidence Interval: ({:.4f}, {:.4f})\".format(lower_value, upper_value))"
   ]
  },
  {
   "cell_type": "markdown",
   "id": "3ecded70-d0c8-43b9-b495-3a4e85314d3c",
   "metadata": {},
   "source": [
    "Q5. Calculate the 90% confidence interval for a sample of data with a mean of 75 and a standard deviation\n",
    "of 12 using Python. Interpret the results."
   ]
  },
  {
   "cell_type": "code",
   "execution_count": 7,
   "id": "0bf0e137-5580-4471-93a4-b8d841a832c3",
   "metadata": {},
   "outputs": [
    {
     "name": "stdout",
     "output_type": "stream",
     "text": [
      "The 90% confidence interval is: (55.26, 94.74)\n"
     ]
    }
   ],
   "source": [
    "mean = 75\n",
    "std_dev = 12\n",
    "confidence_level = 0.9\n",
    "margin_of_error = stats.norm.ppf((1 + confidence_level) / 2) * std_dev\n",
    "lower_= mean - margin_of_error\n",
    "upper_ = mean + margin_of_error\n",
    "print(f\"The 90% confidence interval is: ({lower_:.2f}, {upper_:.2f})\")"
   ]
  },
  {
   "cell_type": "markdown",
   "id": "7cb212a8-2083-4e3e-8f2b-fdba042e50ea",
   "metadata": {},
   "source": [
    "Q6. Use Python to plot the chi-square distribution with 10 degrees of freedom. Label the axes and shade the\n",
    "area corresponding to a chi-square statistic of 15."
   ]
  },
  {
   "cell_type": "code",
   "execution_count": 8,
   "id": "cad62e66-1c2d-4e80-9b7a-198d804c879f",
   "metadata": {},
   "outputs": [],
   "source": [
    "import numpy as np\n",
    "import matplotlib.pyplot as plt"
   ]
  },
  {
   "cell_type": "code",
   "execution_count": 11,
   "id": "77b563d1-9a62-4dc3-b300-0b16d8d2f962",
   "metadata": {},
   "outputs": [
    {
     "data": {
      "text/plain": [
       "<matplotlib.legend.Legend at 0x7f8f091ed690>"
      ]
     },
     "execution_count": 11,
     "metadata": {},
     "output_type": "execute_result"
    },
    {
     "data": {
      "image/png": "[encoded data removed]",
      "text/plain": [
       "<Figure size 640x480 with 1 Axes>"
      ]
     },
     "metadata": {},
     "output_type": "display_data"
    }
   ],
   "source": [
    "df=10\n",
    "x=np.linspace(0,30,1000)\n",
    "chi=stats.chi2.pdf(x,df)\n",
    "plt.plot(x,chi,label=\"CHI-SQUARE Distirbution\",color=\"gold\")\n",
    "plt.xlabel(\"Chi-square statistic\",color=\"green\")\n",
    "plt.ylabel(\"PDF\",color=\"green\")\n",
    "plt.grid()\n",
    "x_shade=np.linspace(15,30,1000)\n",
    "y_shade = stats.chi2.pdf(x_shade,df)\n",
    "plt.fill_between(x_shade,y_shade,label=\"Chi-square characterstic=15\",color=\"pink\",alpha=1)\n",
    "plt.legend()"
   ]
  },
  {
   "cell_type": "markdown",
   "id": "b8b77638-a2cd-4aed-ba82-fb867dd1852b",
   "metadata": {},
   "source": [
    "Q7. A random sample of 1000 people was asked if they preferred Coke or Pepsi. Of the sample, 520\n",
    "preferred Coke. Calculate a 99% confidence interval for the true proportion of people in the population who\n",
    "prefer Coke."
   ]
  },
  {
   "cell_type": "code",
   "execution_count": 12,
   "id": "712aa9f4-eb81-4986-a56e-bcb7a4ef750d",
   "metadata": {},
   "outputs": [
    {
     "name": "stdout",
     "output_type": "stream",
     "text": [
      "99% Confidence Interval: (0.48, 0.56)\n"
     ]
    }
   ],
   "source": [
    "import math\n",
    "n=1000\n",
    "proportion=520/1000\n",
    "confidence_lv=0.99\n",
    "satandard_err=math.sqrt(proportion*(1-proportion)/n)\n",
    "critical_val=stats.norm.ppf((1+confidence_lv)/2)\n",
    "margin_error=critical_val*satandard_err\n",
    "lower_val=proportion-margin_error\n",
    "upper_val=proportion+margin_error\n",
    "print(\"99% Confidence Interval: ({:.2f}, {:.2f})\".format(lower_val, upper_val))"
   ]
  },
  {
   "cell_type": "markdown",
   "id": "771e3ea7-36f6-4a2a-afb0-d4441d973dba",
   "metadata": {},
   "source": [
    "Q8. A researcher hypothesizes that a coin is biased towards tails. They flip the coin 100 times and observe\n",
    "45 tails. Conduct a chi-square goodness of fit test to determine if the observed frequencies match the\n",
    "expected frequencies of a fair coin. Use a significance level of 0.05."
   ]
  },
  {
   "cell_type": "code",
   "execution_count": 13,
   "id": "4fd50947-b3d5-4865-8ca9-f0ff732e93c6",
   "metadata": {},
   "outputs": [
    {
     "name": "stdout",
     "output_type": "stream",
     "text": [
      "Chi-square test statistic: 1.0\n",
      "P-value: 0.31731050786291115\n",
      "Fail to reject the null hypothesis: The coin is fair.\n"
     ]
    }
   ],
   "source": [
    "observed_tails = 45\n",
    "observed_heads = 100 - observed_tails\n",
    "expected_tails = 50\n",
    "expected_heads = 50\n",
    "observed_freq = [observed_tails, observed_heads]\n",
    "expected_freq = [expected_tails, expected_heads]\n",
    "chi2, p_value = stats.chisquare(observed_freq, expected_freq)\n",
    "alpha = 0.05\n",
    "print(f\"Chi-square test statistic: {chi2}\")\n",
    "print(f\"P-value: {p_value}\")\n",
    "if p_value < alpha:\n",
    "    print(\"Reject the null hypothesis: The coin is biased towards tails.\")\n",
    "else:\n",
    "    print(\"Fail to reject the null hypothesis: The coin is fair.\")"
   ]
  },
  {
   "cell_type": "markdown",
   "id": "bd185550-0148-4613-b321-e48837b4051e",
   "metadata": {},
   "source": [
    "Q9. A study was conducted to determine if there is an association between smoking status (smoker or\n",
    "non-smoker) and lung cancer diagnosis (yes or no). The results are shown in the contingency table below.\n",
    "Conduct a chi-square test for independence to determine if there is a significant association between\n",
    "smoking status and lung cancer diagnosis.\n",
    "\n",
    "                 Lung Cancer: Yes          Lung Cancer:No\n",
    "\n",
    "    Smoker              60                    140\n",
    "    Non-smoker          30                    170 \n",
    "\n",
    "Use a significance level of 0.05."
   ]
  },
  {
   "cell_type": "code",
   "execution_count": 14,
   "id": "34e61740-5995-4e7d-9d98-0edd90b63df9",
   "metadata": {},
   "outputs": [
    {
     "name": "stdout",
     "output_type": "stream",
     "text": [
      "Chi-square test statistic: 12.057347670250895\n",
      "P-value: 0.0005158863863703744\n",
      "Degrees of freedom: 1\n",
      "Expected frequencies:\n",
      "[[ 45. 155.]\n",
      " [ 45. 155.]]\n",
      "Reject the null hypothesis: There is a significant association between smoking status and lung cancer diagnosis.\n"
     ]
    }
   ],
   "source": [
    "observed = [[60, 140], [30, 170]]\n",
    "chi2, p_value, dof, expected = stats.chi2_contingency(observed)\n",
    "alpha = 0.05\n",
    "print(f\"Chi-square test statistic: {chi2}\")\n",
    "print(f\"P-value: {p_value}\")\n",
    "print(f\"Degrees of freedom: {dof}\")\n",
    "print(\"Expected frequencies:\")\n",
    "print(expected)\n",
    "\n",
    "if p_value < alpha:\n",
    "    print(\"Reject the null hypothesis: There is a significant association between smoking status and lung cancer diagnosis.\")\n",
    "else:\n",
    "    print(\"Fail to reject the null hypothesis: There is no significant association between smoking status and lung cancer diagnosis.\")\n"
   ]
  },
  {
   "cell_type": "markdown",
   "id": "834f593d-d717-43ac-8618-c3b85aecf530",
   "metadata": {},
   "source": [
    "Q10. A study was conducted to determine if the proportion of people who prefer milk chocolate, dark\n",
    "chocolate, or white chocolate is different in the U.S. versus the U.K. A random sample of 500 people from\n",
    "the U.S. and a random sample of 500 people from the U.K. were surveyed. The results are shown in the\n",
    "contingency table below. Conduct a chi-square test for independence to determine if there is a significant\n",
    "association between chocolate preference and country of origin.\n",
    "\n",
    "                       Milk Chocolate      Dark Chocolate       White Chocolate\n",
    "\n",
    "    U.S. (n=500)              200              150                   150\n",
    "    U.K. (n=500)              225              175                   100\n",
    "    \n",
    "    \n",
    " Use a significance level of 0.01."
   ]
  },
  {
   "cell_type": "code",
   "execution_count": 16,
   "id": "ed8d2f23-281a-449f-9d9d-09b55e7046e6",
   "metadata": {},
   "outputs": [
    {
     "name": "stdout",
     "output_type": "stream",
     "text": [
      "Chi-square test statistic: 13.393665158371041\n",
      "P-value: 0.0012348168997745918\n",
      "Degrees of freedom: 2\n",
      "Expected frequencies:\n",
      "[[212.5 162.5 125. ]\n",
      " [212.5 162.5 125. ]]\n",
      "Reject the null hypothesis: There is a significant association between chocolate preference and country of origin.\n"
     ]
    }
   ],
   "source": [
    "us=[200,150,150]\n",
    "uk=[225,175,100]\n",
    "observed=[us,uk]\n",
    "chi,p_value,dof,expected=stats.chi2_contingency(observed)\n",
    "significance=0.01\n",
    "print(f\"Chi-square test statistic: {chi}\")\n",
    "print(f\"P-value: {p_value}\")\n",
    "print(f\"Degrees of freedom: {dof}\")\n",
    "print(\"Expected frequencies:\")\n",
    "print(expected)\n",
    "\n",
    "if p_value < significance:\n",
    "    print(\"Reject the null hypothesis: There is a significant association between chocolate preference and country of origin.\")\n",
    "else:\n",
    "    print(\"Fail to reject the null hypothesis: There is no significant association between chocolate preference and country of origin.\")\n"
   ]
  },
  {
   "cell_type": "markdown",
   "id": "f16e54e9-9182-4794-b423-bedba7c89ef3",
   "metadata": {},
   "source": [
    "Q11. A random sample of 30 people was selected from a population with an unknown mean and standard\n",
    "deviation. The sample mean was found to be 72 and the sample standard deviation was found to be 10.\n",
    "Conduct a hypothesis test to determine if the population mean is significantly different from 70. Use a\n",
    "significance level of 0.05."
   ]
  },
  {
   "cell_type": "code",
   "execution_count": 19,
   "id": "26041261-e291-45e8-bef7-7d0ca97ee15b",
   "metadata": {},
   "outputs": [
    {
     "name": "stdout",
     "output_type": "stream",
     "text": [
      "Fail to reject the null hypothesis. There is not enough evidence to conclude that the population mean is significantly different from 70.\n"
     ]
    }
   ],
   "source": [
    "mean=72\n",
    "st_dev=10 \n",
    "sample_size=30\n",
    "significance=0.05\n",
    "population_mean_null = 70\n",
    "t_score = (mean - population_mean_null) / (st_dev / (sample_size**0.5))\n",
    "critical_value = stats.t.ppf(1 - significance/2, sample_size - 1)\n",
    "if abs(t_score) > critical_value:\n",
    "    print(\"Reject the null hypothesis. The population mean is significantly different from 70.\")\n",
    "else:\n",
    "    print(\"Fail to reject the null hypothesis. There is not enough evidence to conclude that the population mean is significantly different from 70.\")"
   ]
  }
 ],
 "metadata": {
  "kernelspec": {
   "display_name": "Python 3 (ipykernel)",
   "language": "python",
   "name": "python3"
  },
  "language_info": {
   "codemirror_mode": {
    "name": "ipython",
    "version": 3
   },
   "file_extension": ".py",
   "mimetype": "text/x-python",
   "name": "python",
   "nbconvert_exporter": "python",
   "pygments_lexer": "ipython3",
   "version": "3.10.8"
  }
 },
 "nbformat": 4,
 "nbformat_minor": 5
}
